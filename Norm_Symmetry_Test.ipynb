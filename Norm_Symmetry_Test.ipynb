{
  "nbformat": 4,
  "nbformat_minor": 0,
  "metadata": {
    "colab": {
      "provenance": [],
      "authorship_tag": "ABX9TyPiQYfATpe+gGD2ULjgufM4",
      "include_colab_link": true
    },
    "kernelspec": {
      "name": "python3",
      "display_name": "Python 3"
    },
    "language_info": {
      "name": "python"
    }
  },
  "cells": [
    {
      "cell_type": "markdown",
      "metadata": {
        "id": "view-in-github",
        "colab_type": "text"
      },
      "source": [
        "<a href=\"https://colab.research.google.com/github/njafarov/Statistics/blob/main/Norm_Symmetry_Test.ipynb\" target=\"_parent\"><img src=\"https://colab.research.google.com/assets/colab-badge.svg\" alt=\"Open In Colab\"/></a>"
      ]
    },
    {
      "cell_type": "code",
      "execution_count": 2,
      "metadata": {
        "id": "9zhxtEdwJx1h"
      },
      "outputs": [],
      "source": [
        "import numpy as np\n",
        "\n",
        "# Data\n",
        "X = np.array([0.9, -0.9, 4.3, 2.9, 1.2, 3, 2.7, 0.6, 3.6, -0.5])\n",
        "def norm_symmetry_test(X):\n",
        "\n",
        "  import statsmodels.api as sm\n",
        "  from scipy import stats as ss\n",
        "\n",
        "  # QQPlot X vs Standard Normal\n",
        "  plot = sm.qqplot(X, ss.norm, fit=True)\n",
        "\n",
        "  #  Kolmogorov-Smirnov test\n",
        "  T, p = ss.kstest(X, ss.norm.cdf)\n",
        "  print('Test statistic of KS: {:.3f} and p value: {:.4f}'.format(T, p))\n",
        "\n",
        "\n",
        "  # Kolmogorov-Lilliefors Test\n",
        "  T, p = sm.stats.diagnostic.lilliefors(X, dist='norm', pvalmethod='table')\n",
        "  print('Test statistic of KL: {:.3f} and p value: {:.4f}'.format(T, p))\n",
        "\n",
        "  # Wilcoxon signed-rank test\n",
        "\n",
        "  T, p = ss.wilcoxon(X, alternative='greater')\n",
        "  print('Test statistic of Wilcoxon: {:.2f} and p value: {:.4f}'.format(T, p))"
      ]
    },
    {
      "cell_type": "code",
      "source": [
        "norm_symmetry_test(X)"
      ],
      "metadata": {
        "colab": {
          "base_uri": "https://localhost:8080/",
          "height": 331
        },
        "id": "u7vvuDDXRfiA",
        "outputId": "27fdc7f7-905d-455c-d419-01926766abfb"
      },
      "execution_count": 3,
      "outputs": [
        {
          "output_type": "stream",
          "name": "stdout",
          "text": [
            "Test statistic of KS: 0.526 and p value: 0.0042\n",
            "Test statistic of KL: 0.199 and p value: 0.3281\n",
            "Test statistic of Wilcoxon: 50.50 and p value: 0.0098\n"
          ]
        },
        {
          "output_type": "display_data",
          "data": {
            "text/plain": [
              "<Figure size 432x288 with 1 Axes>"
            ],
            "image/png": "[encoded data removed]"
          },
          "metadata": {
            "needs_background": "light"
          }
        }
      ]
    }
  ]
}