{
  "nbformat": 4,
  "nbformat_minor": 0,
  "metadata": {
    "colab": {
      "provenance": [],
      "authorship_tag": "ABX9TyM+J9Wc04dNndVuecMC3V7J",
      "include_colab_link": true
    },
    "kernelspec": {
      "name": "python3",
      "display_name": "Python 3"
    },
    "language_info": {
      "name": "python"
    }
  },
  "cells": [
    {
      "cell_type": "markdown",
      "metadata": {
        "id": "view-in-github",
        "colab_type": "text"
      },
      "source": [
        "<a href=\"https://colab.research.google.com/github/njafarov/Statistics/blob/main/Norm_Symmetry_Test.ipynb\" target=\"_parent\"><img src=\"https://colab.research.google.com/assets/colab-badge.svg\" alt=\"Open In Colab\"/></a>"
      ]
    },
    {
      "cell_type": "code",
      "execution_count": null,
      "metadata": {
        "id": "9zhxtEdwJx1h"
      },
      "outputs": [],
      "source": [
        "# Data\n",
        "X = np.array([0.9, -0.9, 4.3, 2.9, 1.2, 3, 2.7, 0.6, 3.6, -0.5])\n",
        "def norm_symmetry_test(data):\n",
        "\n",
        "  import numpy as np\n",
        "  import statsmodels.api as sm\n",
        "  from scipy import stats as ss\n",
        "\n",
        "  # QQPlot X vs Standard Normal\n",
        "  plot = sm.qqplot(X, ss.norm, fit=True)\n",
        "\n",
        "  #  Kolmogorov-Smirnov test\n",
        "  T, p = ss.kstest(X, ss.norm.cdf)\n",
        "  print('Test statistic of KS: {:.3f} and p value: {:.4f}'.format(T, p))\n",
        "\n",
        "\n",
        "  # Kolmogorov-Lilliefors Test\n",
        "  T, p = sm.stats.diagnostic.lilliefors(X, dist='norm', pvalmethod='table')\n",
        "  print('Test statistic of KL: {:.3f} and p value: {:.4f}'.format(T, p))\n",
        "\n",
        "  # Wilcoxon signed-rank test\n",
        "\n",
        "  T, p = ss.wilcoxon(X, alternative='greater')\n",
        "  print('Test statistic of Wilcoxon: {:.2f} and p value: {:.4f}'.format(T, p))"
      ]
    }
  ]
}